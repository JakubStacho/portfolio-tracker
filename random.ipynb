{
 "cells": [
  {
   "cell_type": "code",
   "execution_count": 3,
   "metadata": {},
   "outputs": [],
   "source": [
    "#!./env/bin/ python3\n",
    "\n",
    "# Import modules\n",
    "import datetime as dt\n",
    "import numpy as np\n",
    "import pandas as pd\n",
    "from pandas_datareader import data as pdr\n",
    "import yfinance as yf\n",
    "import matplotlib.pyplot as plt"
   ]
  },
  {
   "cell_type": "code",
   "execution_count": 20,
   "metadata": {},
   "outputs": [
    {
     "data": {
      "text/html": [
       "<div>\n",
       "<style scoped>\n",
       "    .dataframe tbody tr th:only-of-type {\n",
       "        vertical-align: middle;\n",
       "    }\n",
       "\n",
       "    .dataframe tbody tr th {\n",
       "        vertical-align: top;\n",
       "    }\n",
       "\n",
       "    .dataframe thead th {\n",
       "        text-align: right;\n",
       "    }\n",
       "</style>\n",
       "<table border=\"1\" class=\"dataframe\">\n",
       "  <thead>\n",
       "    <tr style=\"text-align: right;\">\n",
       "      <th></th>\n",
       "      <th>Open</th>\n",
       "      <th>High</th>\n",
       "      <th>Low</th>\n",
       "      <th>Close</th>\n",
       "      <th>Adj Close</th>\n",
       "      <th>Volume</th>\n",
       "    </tr>\n",
       "    <tr>\n",
       "      <th>Date</th>\n",
       "      <th></th>\n",
       "      <th></th>\n",
       "      <th></th>\n",
       "      <th></th>\n",
       "      <th></th>\n",
       "      <th></th>\n",
       "    </tr>\n",
       "  </thead>\n",
       "  <tbody>\n",
       "    <tr>\n",
       "      <th>2018-01-02</th>\n",
       "      <td>51.360001</td>\n",
       "      <td>51.369999</td>\n",
       "      <td>51.209999</td>\n",
       "      <td>51.330002</td>\n",
       "      <td>43.612030</td>\n",
       "      <td>794100</td>\n",
       "    </tr>\n",
       "    <tr>\n",
       "      <th>2018-01-03</th>\n",
       "      <td>51.320000</td>\n",
       "      <td>51.500000</td>\n",
       "      <td>51.220001</td>\n",
       "      <td>51.480000</td>\n",
       "      <td>43.739487</td>\n",
       "      <td>976300</td>\n",
       "    </tr>\n",
       "    <tr>\n",
       "      <th>2018-01-04</th>\n",
       "      <td>51.520000</td>\n",
       "      <td>51.799999</td>\n",
       "      <td>51.480000</td>\n",
       "      <td>51.730000</td>\n",
       "      <td>43.951897</td>\n",
       "      <td>823300</td>\n",
       "    </tr>\n",
       "    <tr>\n",
       "      <th>2018-01-05</th>\n",
       "      <td>51.849998</td>\n",
       "      <td>52.080002</td>\n",
       "      <td>51.750000</td>\n",
       "      <td>52.049999</td>\n",
       "      <td>44.223778</td>\n",
       "      <td>776200</td>\n",
       "    </tr>\n",
       "    <tr>\n",
       "      <th>2018-01-08</th>\n",
       "      <td>52.020000</td>\n",
       "      <td>52.189999</td>\n",
       "      <td>51.990002</td>\n",
       "      <td>52.160000</td>\n",
       "      <td>44.317238</td>\n",
       "      <td>886800</td>\n",
       "    </tr>\n",
       "  </tbody>\n",
       "</table>\n",
       "</div>"
      ],
      "text/plain": [
       "                 Open       High        Low      Close  Adj Close  Volume\n",
       "Date                                                                     \n",
       "2018-01-02  51.360001  51.369999  51.209999  51.330002  43.612030  794100\n",
       "2018-01-03  51.320000  51.500000  51.220001  51.480000  43.739487  976300\n",
       "2018-01-04  51.520000  51.799999  51.480000  51.730000  43.951897  823300\n",
       "2018-01-05  51.849998  52.080002  51.750000  52.049999  44.223778  776200\n",
       "2018-01-08  52.020000  52.189999  51.990002  52.160000  44.317238  886800"
      ]
     },
     "execution_count": 20,
     "metadata": {},
     "output_type": "execute_result"
    }
   ],
   "source": [
    "# Choose a date range and pull data\n",
    "end_date = dt.datetime.now()\n",
    "start_date = dt.datetime(2018,1,1) # Year, month, day\n",
    "\n",
    "yf.pdr_override()\n",
    "df = pdr.get_data_yahoo('SCHD', start_date, end_date, progress=False)\n",
    "df.head()"
   ]
  },
  {
   "attachments": {},
   "cell_type": "markdown",
   "metadata": {},
   "source": [
    "# Simple vs Log Returns\n",
    "First, one period simple returns are given by:\n",
    "\n",
    "$R_i=\\dfrac{P_i-P_{i-1}}{P_{i-1}}=\\dfrac{P_i}{P_{i-1}} - 1$"
   ]
  },
  {
   "cell_type": "code",
   "execution_count": 21,
   "metadata": {},
   "outputs": [
    {
     "data": {
      "text/plain": [
       "Date\n",
       "2018-01-03    0.002922\n",
       "2018-01-04    0.004856\n",
       "2018-01-05    0.006186\n",
       "2018-01-08    0.002113\n",
       "2018-01-09    0.000192\n",
       "                ...   \n",
       "2023-02-09   -0.008598\n",
       "2023-02-10    0.009198\n",
       "2023-02-13    0.011068\n",
       "2023-02-14   -0.006568\n",
       "2023-02-15    0.001945\n",
       "Name: Close, Length: 1289, dtype: float64"
      ]
     },
     "execution_count": 21,
     "metadata": {},
     "output_type": "execute_result"
    }
   ],
   "source": [
    "simple_returns = df.Close.pct_change().dropna()\n",
    "simple_returns"
   ]
  },
  {
   "attachments": {},
   "cell_type": "markdown",
   "metadata": {},
   "source": [
    "For multi-period returns:\n",
    "\n",
    "$1 + R_i(k) = \\dfrac{P_i}{P_{i-1}}\\dfrac{P_{i-1}}{P_{i-2}}\\dfrac{P_{i-2}}{P_{i-3}}...\\dfrac{P_{i-k+1}}{P_{i-k}}=\\dfrac{P_{i}}{P_{i-k}}$\n",
    "\n",
    "We also know that the total return is just the product of all the mid period returns\n",
    "\n",
    "$1 + R_i(k)=(1+R_i)(1+R_{i-1})...(1+R_{i-k+1})$\n",
    "\n",
    "Which can be written as\n",
    "\n",
    "$1+R_i(k)=\\Pi_{n=0}^{k-1}(1+R_{i-n})$"
   ]
  },
  {
   "cell_type": "code",
   "execution_count": 22,
   "metadata": {},
   "outputs": [
    {
     "name": "stdout",
     "output_type": "stream",
     "text": [
      "Starting Price: $51.33   End Price: $77.29\n",
      "Calculated End Price: $77.29\n"
     ]
    }
   ],
   "source": [
    "# Quickly test this out\n",
    "\n",
    "# This is what we want to get\n",
    "print('Starting Price: ${:.2f}   End Price: ${:.2f}'.format(df.Close[0], df.Close[-1]))\n",
    "\n",
    "# Calculate this using list comprehension\n",
    "end_price = df.Close[0] * np.prod([(1 + daily_return) for daily_return in simple_returns])\n",
    "print('Calculated End Price: ${:.2f}'.format(end_price))"
   ]
  },
  {
   "attachments": {},
   "cell_type": "markdown",
   "metadata": {},
   "source": [
    "Now consider Log Returns\n",
    "\n",
    "$r_i=\\ln(1+R_i)$\n",
    "\n",
    "And for a period $k$ long,\n",
    "\n",
    "$r_i(k)=\\ln(1+R_i(k))=\\ln[(1+R_i)(1+R_{i-1})(1+R_{i-2})...(1+R_{i-k+1})]$\n",
    "\n",
    "$r_i(k)=\\ln(1+R_i)+\\ln(1+R_{i-1})+\\ln(1+R_{i-2})+...+\\ln(1+R_{i-k+1})$\n",
    "\n",
    "$r_i(k)=r_i + r_{i-1} + r_{i-2} +...+r_{i-k+1}$\n",
    "\n",
    "Using $1 + R_i(k)=\\dfrac{P_{i}}{P_{i-k}}$ we can expand this again and cancel a bunch of middle terms to get:\n",
    "\n",
    "$r_i(k)=\\ln(P_i)-\\ln(P_{i-k})$"
   ]
  },
  {
   "cell_type": "code",
   "execution_count": 23,
   "metadata": {},
   "outputs": [
    {
     "data": {
      "text/plain": [
       "Date\n",
       "2018-01-03    0.002918\n",
       "2018-01-04    0.004845\n",
       "2018-01-05    0.006167\n",
       "2018-01-08    0.002111\n",
       "2018-01-09    0.000192\n",
       "                ...   \n",
       "2023-02-09   -0.008635\n",
       "2023-02-10    0.009156\n",
       "2023-02-13    0.011007\n",
       "2023-02-14   -0.006590\n",
       "2023-02-15    0.001943\n",
       "Name: Close, Length: 1289, dtype: float64"
      ]
     },
     "execution_count": 23,
     "metadata": {},
     "output_type": "execute_result"
    }
   ],
   "source": [
    "# Now let's compute the log returns\n",
    "\n",
    "log_returns = np.log(df.Close/df.Close.shift(1)).dropna()\n",
    "log_returns"
   ]
  },
  {
   "cell_type": "code",
   "execution_count": 24,
   "metadata": {},
   "outputs": [
    {
     "name": "stdout",
     "output_type": "stream",
     "text": [
      "Calculated End Price: $77.29\n"
     ]
    }
   ],
   "source": [
    "# Because the final return is the SUM of log returns, it is NORMALLY DISTRIBUTED\n",
    "\n",
    "mean_log_return = log_returns.mean()\n",
    "\n",
    "# Recalculate close price\n",
    "end_price = df.Close[0] * np.exp(mean_log_return * len(log_returns)) \n",
    "print('Calculated End Price: ${:.2f}'.format(end_price))"
   ]
  },
  {
   "cell_type": "code",
   "execution_count": 25,
   "metadata": {},
   "outputs": [
    {
     "data": {
      "text/plain": [
       "<Axes: ylabel='Frequency'>"
      ]
     },
     "execution_count": 25,
     "metadata": {},
     "output_type": "execute_result"
    },
    {
     "data": {
      "image/png": "[encoded data removed]",
      "text/plain": [
       "<Figure size 640x480 with 1 Axes>"
      ]
     },
     "metadata": {},
     "output_type": "display_data"
    }
   ],
   "source": [
    "# Let's try to see the distribution of the log returns\n",
    "log_returns.plot(kind='hist')"
   ]
  },
  {
   "attachments": {},
   "cell_type": "markdown",
   "metadata": {},
   "source": [
    "We can compare this data to a normal distribution using the Kolmogorov Smirnov Test (KS Test). This method can be used for any distribution, not only normal. To compare something to specifically the normal distribution you can use the Shapiro Wilk Test"
   ]
  },
  {
   "cell_type": "code",
   "execution_count": null,
   "metadata": {},
   "outputs": [],
   "source": []
  }
 ],
 "metadata": {
  "kernelspec": {
   "display_name": "env",
   "language": "python",
   "name": "python3"
  },
  "language_info": {
   "codemirror_mode": {
    "name": "ipython",
    "version": 3
   },
   "file_extension": ".py",
   "mimetype": "text/x-python",
   "name": "python",
   "nbconvert_exporter": "python",
   "pygments_lexer": "ipython3",
   "version": "3.8.10"
  },
  "orig_nbformat": 4,
  "vscode": {
   "interpreter": {
    "hash": "7f3fcc721cdf5d2c8efe8075dae0144ccfa90ea9fb36a067b7d7c432ca06fb6d"
   }
  }
 },
 "nbformat": 4,
 "nbformat_minor": 2
}
