{
 "cells": [
  {
   "cell_type": "code",
   "execution_count": 1,
   "metadata": {},
   "outputs": [],
   "source": [
    "#!./env/bin/ python3\n",
    "\n",
    "# Import modules\n",
    "import datetime as dt\n",
    "import numpy as np\n",
    "import pandas as pd\n",
    "from pandas_datareader import data as pdr\n",
    "import yfinance as yf\n",
    "import matplotlib.pyplot as plt\n",
    "\n",
    "#import investingHelpers\n",
    "#from modules.investingHelpers import Stock, Portfolio\n",
    "import modules.investingHelpers as investment\n",
    "\n",
    "# Helpful\n",
    "# https://www.youtube.com/watch?v=t_vZDyQDUkk"
   ]
  },
  {
   "cell_type": "code",
   "execution_count": 14,
   "metadata": {},
   "outputs": [],
   "source": [
    "class Joe():\n",
    "    def __init__(self):\n",
    "        self.num = 5\n",
    "    \n",
    "    def someFunc(self, otherNum):\n",
    "        print(self.num + otherNum)\n",
    "        return self.num + otherNum\n",
    "    \n",
    "    def outsideFunc(self, funcToCall):\n",
    "        thefunction = getattr(self, funcToCall)\n",
    "        thefunction(2)"
   ]
  },
  {
   "cell_type": "code",
   "execution_count": 15,
   "metadata": {},
   "outputs": [
    {
     "name": "stdout",
     "output_type": "stream",
     "text": [
      "7\n"
     ]
    }
   ],
   "source": [
    "guy = Joe()\n",
    "guy.outsideFunc('someFunc')"
   ]
  },
  {
   "cell_type": "code",
   "execution_count": 5,
   "metadata": {},
   "outputs": [
    {
     "name": "stdout",
     "output_type": "stream",
     "text": [
      "[<modules.investingHelpers.Stock object at 0x7f8895000130>, <modules.investingHelpers.Stock object at 0x7f8856e34c20>, <modules.investingHelpers.Stock object at 0x7f8856e78e00>]\n",
      "['AAPL', 'MSFT', 'GOOGL']\n",
      "[<modules.investingHelpers.Stock object at 0x7f8895000130>, <modules.investingHelpers.Stock object at 0x7f8856e78e00>]\n",
      "['AAPL', 'GOOGL']\n"
     ]
    }
   ],
   "source": [
    "myList = []\n",
    "\n",
    "myList.append(investment.Stock('AAPL'))\n",
    "myList.append(investment.Stock('MSFT'))\n",
    "myList.append(investment.Stock('GOOGL'))\n",
    "\n",
    "print(myList)\n",
    "print([str(name) for name in myList])\n",
    "\n",
    "# Get the stock we want to remove\n",
    "stock = next((stock for stock in myList if stock.ticker == 'MSFT'), None)\n",
    "if stock == None:\n",
    "    raise Exception('Error: A stock with the ticker {} was not found in the stock list of this portfolio'.format('MSFT'))\n",
    "\n",
    "myList.remove(stock)\n",
    "\n",
    "print(myList)\n",
    "print([str(name) for name in myList])"
   ]
  },
  {
   "cell_type": "code",
   "execution_count": 2,
   "metadata": {},
   "outputs": [
    {
     "name": "stdout",
     "output_type": "stream",
     "text": [
      "['Cash' 'ZWC.TO' 'VDY.TO' 'Cash' 'Cash' 'Cash' 'Cash' 'Cash' 'AAPL' 'REVS'\n",
      " 'Cash' 'Cash' 'LMT' 'Cash' 'POW.TO' 'TCEHY' 'Cash' 'NCLH' 'NCLH' 'Cash'\n",
      " 'ENB.TO' 'T.TO' 'CU.TO' 'Cash' 'Cash' 'Cash' 'Cash' 'MFC.TO' 'Cash'\n",
      " 'Cash' 'Cash' 'MFC.TO' 'CU.TO' 'T.TO' 'BCE.TO' 'POW.TO' 'MFC.TO' 'ENB.TO'\n",
      " 'CU.TO' 'TRP.TO' 'TD.TO' 'CNR.TO' 'MFC.TO' 'TRP.TO' 'Cash' 'Cash' 'REVS'\n",
      " 'TCEHY' 'BTI' 'AQN.TO' 'ZWC.TO' 'BTI' 'CU.TO' 'AQN.TO' 'CU.TO' 'BTI'\n",
      " 'BTI' 'CU.TO' 'CLX' 'CLX' 'Cash' 'AQN.TO' 'BCE.TO' 'SU.TO' 'VDY.TO'\n",
      " 'SU.TO' 'BCE.TO' 'BCE.TO' 'BCE.TO' 'CU.TO' 'CU.TO' 'CU.TO' 'AAPL'\n",
      " 'TRP.TO' 'BTI']\n"
     ]
    }
   ],
   "source": [
    "ts = investment.TransactionReader('./data/Test_History.tsv')\n",
    "\n",
    "print(ts.tickers)"
   ]
  },
  {
   "cell_type": "code",
   "execution_count": 30,
   "metadata": {},
   "outputs": [
    {
     "name": "stdout",
     "output_type": "stream",
     "text": [
      "(75, 10)\n",
      "['07/09/2021' '07/12/2021']\n",
      "[datetime.datetime(2021, 7, 9, 0, 0) datetime.datetime(2021, 7, 12, 0, 0)]\n",
      "<class 'numpy.ndarray'>\n"
     ]
    }
   ],
   "source": [
    "transactions = np.genfromtxt('./data/Test_History.tsv', delimiter='\\t', skip_header=2, autostrip=True, dtype=str)\n",
    "\n",
    "print(transactions.shape)\n",
    "\n",
    "print(transactions[:,0][:2])\n",
    "#d = '07/12/2021'\n",
    "d = transactions[:,0][:2]\n",
    "#actual_date = dt.datetime(d)\n",
    "actual_date = np.array([dt.datetime.strptime(t, '%m/%d/%Y') for t in d])\n",
    "\n",
    "#actual_date = dt.datetime.strptime(d, '%m/%d/%Y')\n",
    "print(actual_date)\n",
    "print(type(actual_date))\n",
    "\n",
    "# %m %d %y"
   ]
  },
  {
   "cell_type": "code",
   "execution_count": 33,
   "metadata": {},
   "outputs": [
    {
     "name": "stdout",
     "output_type": "stream",
     "text": [
      "{datetime.datetime(2021, 7, 9, 0, 0): [], datetime.datetime(2021, 7, 12, 0, 0): []}\n",
      "0\n"
     ]
    }
   ],
   "source": [
    "date_dict = dict.fromkeys(actual_date, [])\n",
    "\n",
    "print(date_dict)\n",
    "\n",
    "print(len(date_dict[actual_date[0]]))"
   ]
  },
  {
   "cell_type": "code",
   "execution_count": 2,
   "metadata": {},
   "outputs": [
    {
     "name": "stdout",
     "output_type": "stream",
     "text": [
      "Warning: Start date specified is a weekend. The next weekday will be used as the start date.\n"
     ]
    },
    {
     "data": {
      "text/plain": [
       "array([datetime.datetime(2023, 2, 6, 0, 0),\n",
       "       datetime.datetime(2023, 2, 7, 0, 0),\n",
       "       datetime.datetime(2023, 2, 8, 0, 0),\n",
       "       datetime.datetime(2023, 2, 9, 0, 0),\n",
       "       datetime.datetime(2023, 2, 10, 0, 0),\n",
       "       datetime.datetime(2023, 2, 13, 0, 0),\n",
       "       datetime.datetime(2023, 2, 14, 0, 0),\n",
       "       datetime.datetime(2023, 2, 15, 0, 0),\n",
       "       datetime.datetime(2023, 2, 16, 0, 0),\n",
       "       datetime.datetime(2023, 2, 17, 0, 0),\n",
       "       datetime.datetime(2023, 2, 20, 0, 0)], dtype=object)"
      ]
     },
     "execution_count": 2,
     "metadata": {},
     "output_type": "execute_result"
    }
   ],
   "source": [
    "end_date = dt.datetime.now()\n",
    "start_date = dt.datetime(2023,2,4) # Year, month, day\n",
    "\n",
    "investment.GetWeekdays(start_date, end_date)"
   ]
  },
  {
   "cell_type": "code",
   "execution_count": 12,
   "metadata": {},
   "outputs": [
    {
     "name": "stdout",
     "output_type": "stream",
     "text": [
      "<class 'pandas.core.frame.DataFrame'>\n"
     ]
    }
   ],
   "source": [
    "# Choose a date range and pull data\n",
    "end_date = dt.datetime.now()\n",
    "start_date = dt.datetime(2020,1,1) # Year, month, day\n",
    "\n",
    "stock_list = ['VFV.TO']\n",
    "\n",
    "yf.pdr_override()\n",
    "df = pdr.get_data_yahoo(stock_list, start_date, end_date, progress=False)\n",
    "print(type(df.iloc[:, [4]]))\n",
    "#close = df.Close\n",
    "#print(type(close))\n",
    "\n",
    "#df.head()\n",
    "#print(df.shape)\n",
    "#df.head()"
   ]
  },
  {
   "cell_type": "code",
   "execution_count": 2,
   "metadata": {},
   "outputs": [
    {
     "name": "stdout",
     "output_type": "stream",
     "text": [
      "5\n",
      "Apple (AAPL)\n"
     ]
    }
   ],
   "source": [
    "end_date = dt.datetime.now()\n",
    "start_date = dt.datetime(2020,1,1) # Year, month, day\n",
    "\n",
    "myStock = Stock('Apple', 'AAPL')\n",
    "\n",
    "myStock.PullData(start_date, end_date)\n",
    "\n",
    "myStock.Buy(5)\n",
    "\n",
    "print(myStock.units)\n",
    "#myStock.close_prices\n",
    "print(myStock)"
   ]
  },
  {
   "cell_type": "code",
   "execution_count": 15,
   "metadata": {},
   "outputs": [
    {
     "name": "stdout",
     "output_type": "stream",
     "text": [
      "USDCAD=X\n",
      "            Adj Close\n",
      "Date                 \n",
      "2020-01-01    1.30020\n",
      "2020-01-02    1.29730\n",
      "2020-01-03    1.29830\n",
      "2020-01-06    1.29866\n",
      "2020-01-07    1.29639\n",
      "...               ...\n",
      "2023-02-13    1.33574\n",
      "2023-02-14    1.33331\n",
      "2023-02-15    1.33406\n",
      "2023-02-16    1.33906\n",
      "2023-02-17    1.34730\n",
      "\n",
      "[818 rows x 1 columns]\n",
      "<class 'pandas.core.frame.DataFrame'>\n",
      "<class 'numpy.float64'>\n",
      "1.3001999855041504\n",
      "<bound method Series.keys of Date\n",
      "2020-01-01    1.30020\n",
      "2020-01-02    1.29730\n",
      "2020-01-03    1.29830\n",
      "2020-01-06    1.29866\n",
      "2020-01-07    1.29639\n",
      "               ...   \n",
      "2023-02-13    1.33574\n",
      "2023-02-14    1.33331\n",
      "2023-02-15    1.33406\n",
      "2023-02-16    1.33906\n",
      "2023-02-17    1.34730\n",
      "Name: Adj Close, Length: 818, dtype: float64>\n",
      "1.3390599489212036\n"
     ]
    }
   ],
   "source": [
    "# Try to access exchagne rate data\n",
    "\n",
    "end_date = dt.datetime.now()\n",
    "start_date = dt.datetime(2020,1,1)\n",
    "\n",
    "myExchange = investment.Stock('USDCAD=X')\n",
    "\n",
    "print(myExchange)\n",
    "\n",
    "myExchange.PullData(start_date, end_date)\n",
    "\n",
    "print(myExchange.close_prices)\n",
    "print(type(myExchange.close_prices))\n",
    "print(type(myExchange.close_prices['Adj Close'][0]))\n",
    "print(myExchange.close_prices['Adj Close'][0])\n",
    "print(myExchange.close_prices['Adj Close'].keys)\n",
    "print(myExchange.close_prices['Adj Close'][dt.datetime(2023,2,16)])\n",
    "#print(myExchange.close_prices[dt.datetime(2023,2,16)])\n",
    "#print(myExchange.close_prices[str(dt.datetime(2023,2,16))])"
   ]
  },
  {
   "cell_type": "code",
   "execution_count": 19,
   "metadata": {},
   "outputs": [
    {
     "name": "stdout",
     "output_type": "stream",
     "text": [
      "WARNING: No decryption keys could be extracted from JS file. Falling back to backup decrypt methods.\n",
      "Vanguard S&P 500 Index ETF\n"
     ]
    }
   ],
   "source": [
    "msft = yf.Ticker('VFV.TO')\n",
    "name = msft.info['longName']\n",
    "print(name)"
   ]
  },
  {
   "cell_type": "code",
   "execution_count": 4,
   "metadata": {},
   "outputs": [
    {
     "name": "stdout",
     "output_type": "stream",
     "text": [
      "['MSFT', 'AAPL', 'VFV.TO']\n",
      "None\n"
     ]
    }
   ],
   "source": [
    "# Choose a date range and pull data\n",
    "end_date = dt.datetime.now()\n",
    "start_date = dt.datetime(2020,1,1) # Year, month, day\n",
    "\n",
    "myPortfolio = Portfolio()\n",
    "\n",
    "myPortfolio.AddStock('MSFT')\n",
    "myPortfolio.AddStock('AAPL')\n",
    "myPortfolio.AddStock('VFV.TO')\n",
    "\n",
    "for stock in myPortfolio.stock_list:\n",
    "    stock.PullData(start_date, end_date)\n",
    "\n",
    "print([str(stock) for stock in myPortfolio.stock_list])\n",
    "\n",
    "#stock = next((stock for stock in myPortfolio.stock_list if stock.ticker == 'Joe'), None)\n",
    "print(stock)"
   ]
  },
  {
   "cell_type": "code",
   "execution_count": 14,
   "metadata": {},
   "outputs": [
    {
     "name": "stdout",
     "output_type": "stream",
     "text": [
      "['key1' '5']\n",
      "['key1' 'key2']\n"
     ]
    }
   ],
   "source": [
    "a = []\n",
    "#a.append(np.array(['key1', 5]))\n",
    "#a.append(np.array(['key2', 1]))\n",
    "\n",
    "a.append(['key1', 5])\n",
    "a.append(['key2', 1])\n",
    "\n",
    "a = np.array(a)\n",
    "print(a[0])\n",
    "#print(a.shape())\n",
    "print(a[:,0])"
   ]
  },
  {
   "cell_type": "code",
   "execution_count": 9,
   "metadata": {},
   "outputs": [
    {
     "name": "stdout",
     "output_type": "stream",
     "text": [
      "dict_keys(['CAD', 'USD'])\n"
     ]
    }
   ],
   "source": [
    "b = {'CAD': 1, 'USD': 2}\n",
    "\n",
    "print(b.keys())"
   ]
  },
  {
   "cell_type": "code",
   "execution_count": 12,
   "metadata": {},
   "outputs": [
    {
     "name": "stdout",
     "output_type": "stream",
     "text": [
      "-0.8777\n"
     ]
    }
   ],
   "source": [
    "a = 0.1223\n",
    "a -= 1\n",
    "print(a)"
   ]
  },
  {
   "cell_type": "code",
   "execution_count": null,
   "metadata": {},
   "outputs": [],
   "source": []
  }
 ],
 "metadata": {
  "kernelspec": {
   "display_name": "env",
   "language": "python",
   "name": "python3"
  },
  "language_info": {
   "codemirror_mode": {
    "name": "ipython",
    "version": 3
   },
   "file_extension": ".py",
   "mimetype": "text/x-python",
   "name": "python",
   "nbconvert_exporter": "python",
   "pygments_lexer": "ipython3",
   "version": "3.10.6"
  },
  "orig_nbformat": 4,
  "vscode": {
   "interpreter": {
    "hash": "cb939f190ac9179764f8a44a27a829c69020e9f925dbe479d2f21dac9a16c6c1"
   }
  }
 },
 "nbformat": 4,
 "nbformat_minor": 2
}
