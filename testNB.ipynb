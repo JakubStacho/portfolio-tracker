{
 "cells": [
  {
   "cell_type": "code",
   "execution_count": 1,
   "metadata": {},
   "outputs": [],
   "source": [
    "#!./env/bin/ python3\n",
    "\n",
    "# Import modules\n",
    "import datetime as dt\n",
    "import numpy as np\n",
    "import pandas as pd\n",
    "from pandas_datareader import data as pdr\n",
    "import yfinance as yf\n",
    "import matplotlib.pyplot as plt\n",
    "\n",
    "#import investingHelpers\n",
    "#from modules.investingHelpers import Stock, Portfolio\n",
    "import modules.investingHelpers as investment\n",
    "\n",
    "# Helpful\n",
    "# https://www.youtube.com/watch?v=t_vZDyQDUkk"
   ]
  },
  {
   "cell_type": "code",
   "execution_count": 3,
   "metadata": {},
   "outputs": [
    {
     "name": "stdout",
     "output_type": "stream",
     "text": [
      "Warning: Start date specified is a weekend. The next weekday will be used as the start date.\n"
     ]
    },
    {
     "data": {
      "text/plain": [
       "array([datetime.datetime(2023, 2, 6, 0, 0),\n",
       "       datetime.datetime(2023, 2, 7, 0, 0),\n",
       "       datetime.datetime(2023, 2, 8, 0, 0),\n",
       "       datetime.datetime(2023, 2, 9, 0, 0),\n",
       "       datetime.datetime(2023, 2, 10, 0, 0),\n",
       "       datetime.datetime(2023, 2, 13, 0, 0),\n",
       "       datetime.datetime(2023, 2, 14, 0, 0),\n",
       "       datetime.datetime(2023, 2, 15, 0, 0),\n",
       "       datetime.datetime(2023, 2, 16, 0, 0)], dtype=object)"
      ]
     },
     "execution_count": 3,
     "metadata": {},
     "output_type": "execute_result"
    }
   ],
   "source": [
    "end_date = dt.datetime.now()\n",
    "start_date = dt.datetime(2023,2,4) # Year, month, day\n",
    "\n",
    "investment.GetWeekdays(start_date, end_date)"
   ]
  },
  {
   "cell_type": "code",
   "execution_count": 12,
   "metadata": {},
   "outputs": [
    {
     "name": "stdout",
     "output_type": "stream",
     "text": [
      "<class 'pandas.core.frame.DataFrame'>\n"
     ]
    }
   ],
   "source": [
    "# Choose a date range and pull data\n",
    "end_date = dt.datetime.now()\n",
    "start_date = dt.datetime(2020,1,1) # Year, month, day\n",
    "\n",
    "stock_list = ['VFV.TO']\n",
    "\n",
    "yf.pdr_override()\n",
    "df = pdr.get_data_yahoo(stock_list, start_date, end_date, progress=False)\n",
    "print(type(df.iloc[:, [4]]))\n",
    "#close = df.Close\n",
    "#print(type(close))\n",
    "\n",
    "#df.head()\n",
    "#print(df.shape)\n",
    "#df.head()"
   ]
  },
  {
   "cell_type": "code",
   "execution_count": 2,
   "metadata": {},
   "outputs": [
    {
     "name": "stdout",
     "output_type": "stream",
     "text": [
      "5\n",
      "Apple (AAPL)\n"
     ]
    }
   ],
   "source": [
    "end_date = dt.datetime.now()\n",
    "start_date = dt.datetime(2020,1,1) # Year, month, day\n",
    "\n",
    "myStock = Stock('Apple', 'AAPL')\n",
    "\n",
    "myStock.PullData(start_date, end_date)\n",
    "\n",
    "myStock.Buy(5)\n",
    "\n",
    "print(myStock.units)\n",
    "#myStock.close_prices\n",
    "print(myStock)"
   ]
  },
  {
   "cell_type": "code",
   "execution_count": 19,
   "metadata": {},
   "outputs": [
    {
     "name": "stdout",
     "output_type": "stream",
     "text": [
      "WARNING: No decryption keys could be extracted from JS file. Falling back to backup decrypt methods.\n",
      "Vanguard S&P 500 Index ETF\n"
     ]
    }
   ],
   "source": [
    "msft = yf.Ticker('VFV.TO')\n",
    "name = msft.info['longName']\n",
    "print(name)"
   ]
  },
  {
   "cell_type": "code",
   "execution_count": 4,
   "metadata": {},
   "outputs": [
    {
     "name": "stdout",
     "output_type": "stream",
     "text": [
      "['MSFT', 'AAPL', 'VFV.TO']\n",
      "None\n"
     ]
    }
   ],
   "source": [
    "# Choose a date range and pull data\n",
    "end_date = dt.datetime.now()\n",
    "start_date = dt.datetime(2020,1,1) # Year, month, day\n",
    "\n",
    "myPortfolio = Portfolio()\n",
    "\n",
    "myPortfolio.AddStock('MSFT')\n",
    "myPortfolio.AddStock('AAPL')\n",
    "myPortfolio.AddStock('VFV.TO')\n",
    "\n",
    "for stock in myPortfolio.stock_list:\n",
    "    stock.PullData(start_date, end_date)\n",
    "\n",
    "print([str(stock) for stock in myPortfolio.stock_list])\n",
    "\n",
    "#stock = next((stock for stock in myPortfolio.stock_list if stock.ticker == 'Joe'), None)\n",
    "print(stock)"
   ]
  },
  {
   "cell_type": "code",
   "execution_count": 14,
   "metadata": {},
   "outputs": [
    {
     "name": "stdout",
     "output_type": "stream",
     "text": [
      "['key1' '5']\n",
      "['key1' 'key2']\n"
     ]
    }
   ],
   "source": [
    "a = []\n",
    "#a.append(np.array(['key1', 5]))\n",
    "#a.append(np.array(['key2', 1]))\n",
    "\n",
    "a.append(['key1', 5])\n",
    "a.append(['key2', 1])\n",
    "\n",
    "a = np.array(a)\n",
    "print(a[0])\n",
    "#print(a.shape())\n",
    "print(a[:,0])"
   ]
  },
  {
   "cell_type": "code",
   "execution_count": 9,
   "metadata": {},
   "outputs": [
    {
     "name": "stdout",
     "output_type": "stream",
     "text": [
      "dict_keys(['CAD', 'USD'])\n"
     ]
    }
   ],
   "source": [
    "b = {'CAD': 1, 'USD': 2}\n",
    "\n",
    "print(b.keys())"
   ]
  },
  {
   "cell_type": "code",
   "execution_count": 12,
   "metadata": {},
   "outputs": [
    {
     "name": "stdout",
     "output_type": "stream",
     "text": [
      "-0.8777\n"
     ]
    }
   ],
   "source": [
    "a = 0.1223\n",
    "a -= 1\n",
    "print(a)"
   ]
  },
  {
   "cell_type": "code",
   "execution_count": null,
   "metadata": {},
   "outputs": [],
   "source": []
  }
 ],
 "metadata": {
  "kernelspec": {
   "display_name": "env",
   "language": "python",
   "name": "python3"
  },
  "language_info": {
   "codemirror_mode": {
    "name": "ipython",
    "version": 3
   },
   "file_extension": ".py",
   "mimetype": "text/x-python",
   "name": "python",
   "nbconvert_exporter": "python",
   "pygments_lexer": "ipython3",
   "version": "3.8.10"
  },
  "orig_nbformat": 4,
  "vscode": {
   "interpreter": {
    "hash": "7f3fcc721cdf5d2c8efe8075dae0144ccfa90ea9fb36a067b7d7c432ca06fb6d"
   }
  }
 },
 "nbformat": 4,
 "nbformat_minor": 2
}
